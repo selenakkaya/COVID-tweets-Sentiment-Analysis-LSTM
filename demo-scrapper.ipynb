{
 "cells": [
  {
   "cell_type": "markdown",
   "metadata": {},
   "source": [
    "### import libraries"
   ]
  },
  {
   "cell_type": "code",
   "execution_count": 3,
   "metadata": {},
   "outputs": [],
   "source": [
    "from tweepy.streaming import StreamListener\n",
    "from tweepy import OAuthHandler\n",
    "from tweepy import Stream\n",
    "import tweepy\n",
    "import json\n",
    "import time\n",
    "import pandas as pd\n",
    "\n"
   ]
  },
  {
   "cell_type": "markdown",
   "metadata": {},
   "source": [
    "### set the user credentials"
   ]
  },
  {
   "cell_type": "code",
   "execution_count": 4,
   "metadata": {},
   "outputs": [],
   "source": [
    "\n",
    "#We authenticate ourselves as having a twitter app\n",
    "#Variables that contains the user credentials to access Twitter API \n",
    "\n",
    "consumer_key = '********'\n",
    "consumer_secret = '**********'\n",
    "access_token = '***********'\n",
    "access_token_secret = '*************'\n",
    "\n",
    "auth = OAuthHandler(consumer_key, consumer_secret)\n",
    "auth.set_access_token(access_token, access_token_secret)\n",
    " \n",
    "api = tweepy.API(auth, wait_on_rate_limit=True, wait_on_rate_limit_notify=True)\n"
   ]
  },
  {
   "cell_type": "code",
   "execution_count": 9,
   "metadata": {},
   "outputs": [],
   "source": [
    "#We begin searching our query\n",
    "#Put your search term\n",
    "searchquery = \"covid america\"\n"
   ]
  },
  {
   "cell_type": "code",
   "execution_count": 10,
   "metadata": {},
   "outputs": [],
   "source": [
    "users =tweepy.Cursor(api.search,q=searchquery).items()\n",
    "count = 0\n",
    "start = 0\n",
    "errorCount=0\n"
   ]
  },
  {
   "cell_type": "code",
   "execution_count": 11,
   "metadata": {},
   "outputs": [],
   "source": [
    "#here we tell the program how fast to search \n",
    "waitquery = 100      #this is the number of searches it will do before resting\n",
    "waittime = 2.0          # this is the length of time we tell our program to rest\n",
    "total_number = 10    #this is the total number of queries we want\n",
    "justincase = 1         #this is the number of minutes to wait just in case twitter throttles us\n"
   ]
  },
  {
   "cell_type": "code",
   "execution_count": 12,
   "metadata": {},
   "outputs": [
    {
     "name": "stdout",
     "output_type": "stream",
     "text": [
      "en\n",
      "en\n",
      "es\n",
      "en\n",
      "en\n",
      "en\n",
      "en\n",
      "en\n",
      "en\n",
      "en\n",
      "current saved is:\n",
      "1\n",
      "pt\n",
      "en\n",
      "es\n",
      "en\n",
      "es\n",
      "en\n",
      "current saved is:\n",
      "2\n",
      "es\n",
      "en\n",
      "en\n",
      "es\n",
      "en\n",
      "en\n",
      "es\n",
      "tl\n",
      "en\n",
      "es\n",
      "en\n",
      "es\n",
      "en\n",
      "es\n",
      "en\n",
      "en\n",
      "en\n",
      "en\n",
      "es\n",
      "en\n",
      "en\n",
      "en\n",
      "en\n",
      "es\n",
      "es\n",
      "en\n",
      "en\n",
      "en\n",
      "en\n",
      "en\n",
      "current saved is:\n",
      "3\n",
      "en\n",
      "pt\n",
      "en\n",
      "en\n",
      "en\n",
      "en\n",
      "und\n",
      "en\n",
      "en\n",
      "en\n",
      "en\n",
      "en\n",
      "en\n",
      "en\n",
      "en\n",
      "en\n",
      "current saved is:\n",
      "4\n",
      "es\n",
      "en\n",
      "en\n",
      "en\n",
      "en\n",
      "es\n",
      "it\n",
      "en\n",
      "en\n",
      "en\n",
      "en\n",
      "current saved is:\n",
      "5\n",
      "en\n",
      "current saved is:\n",
      "6\n",
      "en\n",
      "es\n",
      "en\n",
      "en\n",
      "en\n",
      "current saved is:\n",
      "7\n",
      "es\n",
      "en\n",
      "en\n",
      "en\n",
      "current saved is:\n",
      "8\n",
      "en\n",
      "es\n",
      "en\n",
      "en\n",
      "current saved is:\n",
      "9\n",
      "en\n",
      "en\n",
      "es\n",
      "en\n",
      "current saved is:\n",
      "10\n"
     ]
    }
   ],
   "source": [
    "text = [0] * total_number\n",
    "secondcount = 0\n",
    "idvalues = [1] * total_number\n",
    "\n",
    "#the queries are being made according to our aim above\n",
    "while secondcount < total_number:\n",
    "    try:\n",
    "        user = next(users)\n",
    "        count += 1\n",
    "        \n",
    "        #We say that after every 100 searches wait 5 seconds\n",
    "        if (count%waitquery == 0):\n",
    "            time.sleep(waittime)\n",
    "            #break\n",
    "\n",
    "    except tweepy.TweepError:\n",
    "        #catches TweepError when rate limiting occurs, sleeps, then restarts.\n",
    "        #nominally 15 minnutes, make a bit longer to avoid attention.\n",
    "        print (\"sleeping....\")\n",
    "        time.sleep(60*justincase)\n",
    "        user = next(users)\n",
    "        \n",
    "        \n",
    "    except StopIteration:\n",
    "        break\n",
    "    try:\n",
    "        #print \"Writing to JSON tweet number:\"+str(count)\n",
    "        text_value = user._json['text']\n",
    "        language = user._json['lang']\n",
    "        #print(text_value)\n",
    "        print(language)\n",
    "        \n",
    "        if \"RT\" not in text_value:\n",
    "            if language == \"en\":\n",
    "                text[secondcount] = text_value\n",
    "                secondcount = secondcount + 1\n",
    "                print(\"current saved is:\")\n",
    "                print(secondcount)\n",
    "\n",
    "    except UnicodeEncodeError:\n",
    "        errorCount += 1\n",
    "        print (\"UnicodeEncodeError,errorCount =\")+str(errorCount)\n"
   ]
  },
  {
   "cell_type": "code",
   "execution_count": 13,
   "metadata": {},
   "outputs": [
    {
     "name": "stdout",
     "output_type": "stream",
     "text": [
      "Creating dataframe:\n",
      "completed\n"
     ]
    }
   ],
   "source": [
    "print(\"Creating dataframe:\")\n",
    "\n",
    "d = {\"text\": text, \"id\": idvalues}\n",
    "df = pd.DataFrame(data = d)\n",
    "\n",
    "df.to_csv('americacovid-demo-seniorproject.csv', header=True, index=False, encoding='utf-8')\n",
    "\n",
    "print (\"completed\")"
   ]
  },
  {
   "cell_type": "code",
   "execution_count": null,
   "metadata": {},
   "outputs": [],
   "source": []
  }
 ],
 "metadata": {
  "kernelspec": {
   "display_name": "Python 3",
   "language": "python",
   "name": "python3"
  },
  "language_info": {
   "codemirror_mode": {
    "name": "ipython",
    "version": 3
   },
   "file_extension": ".py",
   "mimetype": "text/x-python",
   "name": "python",
   "nbconvert_exporter": "python",
   "pygments_lexer": "ipython3",
   "version": "3.7.4"
  }
 },
 "nbformat": 4,
 "nbformat_minor": 2
}
